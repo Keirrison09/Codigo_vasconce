{
 "cells": [
  {
   "cell_type": "markdown",
   "id": "1a607000",
   "metadata": {},
   "source": [
    "### CLT"
   ]
  },
  {
   "cell_type": "code",
   "execution_count": 6,
   "id": "d772f625",
   "metadata": {},
   "outputs": [
    {
     "name": "stdout",
     "output_type": "stream",
     "text": [
      " você ficara devendo -4070 \n"
     ]
    }
   ],
   "source": [
    "salario = 1200\n",
    "gasolina = 200\n",
    "internet = 200\n",
    "alimentação = 1500\n",
    "água = 100\n",
    "luz = 300\n",
    "condominio = 570\n",
    "entreterimento = 1200\n",
    "total_gastos =  salario + gasolina + internet + alimentação + água + luz + condominio + entreterimento\n",
    "quanto_sobra = salario-total_gastos\n",
    "\n",
    "print(f\" você ficara devendo {quanto_sobra} \")"
   ]
  },
  {
   "cell_type": "markdown",
   "id": "0bd92cd5",
   "metadata": {},
   "source": [
    "\n",
    "### Meus gastos"
   ]
  },
  {
   "cell_type": "code",
   "execution_count": null,
   "id": "a97d0e03",
   "metadata": {},
   "outputs": [
    {
     "name": "stdout",
     "output_type": "stream",
     "text": [
      " você ficara devendo -2370\n"
     ]
    }
   ],
   "source": [
    "salario = 3500\n",
    "gasolina = 200\n",
    "internet = 120\n",
    "alimentação = 1200\n",
    "água = 150\n",
    "luz = 200\n",
    "entreterimento = 500\n",
    "total_gastos = salario + gasolina + internet + alimentação + água + luz + entreterimento\n",
    "quanto_sobra = salario-total_gastos\n",
    "\n",
    "print(f\" você ficara devendo {quanto_sobra}\")"
   ]
  }
 ],
 "metadata": {
  "kernelspec": {
   "display_name": "Python 3",
   "language": "python",
   "name": "python3"
  },
  "language_info": {
   "codemirror_mode": {
    "name": "ipython",
    "version": 3
   },
   "file_extension": ".py",
   "mimetype": "text/x-python",
   "name": "python",
   "nbconvert_exporter": "python",
   "pygments_lexer": "ipython3",
   "version": "3.13.2"
  }
 },
 "nbformat": 4,
 "nbformat_minor": 5
}
